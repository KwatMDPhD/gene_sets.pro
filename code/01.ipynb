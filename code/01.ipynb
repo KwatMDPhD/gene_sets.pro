{
 "cells": [
  {
   "cell_type": "code",
   "execution_count": null,
   "id": "ddc95df9",
   "metadata": {},
   "outputs": [],
   "source": [
    "include(\"_.jl\")"
   ]
  },
  {
   "cell_type": "code",
   "execution_count": null,
   "id": "0c33b211",
   "metadata": {},
   "outputs": [],
   "source": [
    "se_ge_ = Dict{String,Vector{String}}()"
   ]
  },
  {
   "cell_type": "code",
   "execution_count": null,
   "id": "21193196",
   "metadata": {},
   "outputs": [],
   "source": [
    "merge!(se_ge_, Kwat.file.read_gmt(Kwat.path.select(joinpath(\"..\", \"input\", \"msigdb\", \"\"))))\n",
    "\n",
    "length(se_ge_)"
   ]
  },
  {
   "cell_type": "code",
   "execution_count": null,
   "id": "456b5b49",
   "metadata": {},
   "outputs": [],
   "source": [
    "merge!(se_ge_, Kwat.file.read_gmt(joinpath(\"..\", \"input\", \"ipa.gmt\")))\n",
    "\n",
    "length(se_ge_)"
   ]
  },
  {
   "cell_type": "code",
   "execution_count": null,
   "id": "688d5a9b",
   "metadata": {},
   "outputs": [],
   "source": [
    "merge!(se_ge_, Kwat.file.read_gmt(Kwat.path.select(joinpath(\"..\", \"input\", \"table\", \"\"); ke_=[r\".tsv$\"])))\n",
    "\n",
    "length(se_ge_)"
   ]
  },
  {
   "cell_type": "code",
   "execution_count": null,
   "id": "188745ad",
   "metadata": {},
   "outputs": [],
   "source": [
    "Kwat.json.write(joinpath(PAO, \"set_to_genes.json\"), se_ge_)"
   ]
  }
 ],
 "metadata": {
  "@webio": {
   "lastCommId": null,
   "lastKernelId": null
  },
  "kernelspec": {
   "display_name": "Julia 1.6.3",
   "language": "julia",
   "name": "julia-1.6"
  },
  "language_info": {
   "file_extension": ".jl",
   "mimetype": "application/julia",
   "name": "julia",
   "version": "1.6.3"
  }
 },
 "nbformat": 4,
 "nbformat_minor": 5
}
