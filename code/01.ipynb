{
 "cells": [
  {
   "cell_type": "code",
   "execution_count": 1,
   "id": "ddc95df9",
   "metadata": {},
   "outputs": [
    {
     "name": "stderr",
     "output_type": "stream",
     "text": [
      "┌ Info: Precompiling Kwat [fb31f113-4a63-4a8e-817a-4bdffc7e605a]\n",
      "└ @ Base loading.jl:1342\n"
     ]
    },
    {
     "data": {
      "application/vnd.webio.node+json": {
       "children": [],
       "instanceArgs": {
        "namespace": "html",
        "tag": "div"
       },
       "nodeType": "DOM",
       "props": {},
       "type": "node"
      },
      "text/html": [
       "<div style=\"padding: 1em; background-color: #f8d6da; border: 1px solid #f5c6cb; font-weight: bold;\">\n",
       "<p>The WebIO Jupyter extension was not detected. See the\n",
       "<a href=\"https://juliagizmos.github.io/WebIO.jl/latest/providers/ijulia/\" target=\"_blank\">\n",
       "    WebIO Jupyter integration documentation\n",
       "</a>\n",
       "for more information.\n",
       "</div>\n"
      ],
      "text/plain": [
       "WebIO._IJuliaInit()"
      ]
     },
     "metadata": {
      "application/vnd.webio.node+json": {
       "kernelId": null
      }
     },
     "output_type": "display_data"
    },
    {
     "data": {
      "text/plain": [
       "(\"/Users/kwat/craft/workflow/get_gene_set\", \"/Users/kwat/craft/workflow/get_gene_set/input/\", \"/Users/kwat/craft/workflow/get_gene_set/code/\", \"/Users/kwat/craft/workflow/get_gene_set/output/\")"
      ]
     },
     "execution_count": 1,
     "metadata": {},
     "output_type": "execute_result"
    }
   ],
   "source": [
    "include(\"_.jl\")"
   ]
  },
  {
   "cell_type": "code",
   "execution_count": null,
   "id": "0c33b211",
   "metadata": {},
   "outputs": [],
   "source": [
    "se_ge_ = Dict{String, Vector{String}}()"
   ]
  },
  {
   "cell_type": "code",
   "execution_count": 3,
   "id": "21193196",
   "metadata": {},
   "outputs": [
    {
     "name": "stdout",
     "output_type": "stream",
     "text": [
      "32284\n"
     ]
    }
   ],
   "source": [
    "merge!(se_ge_, Kwat.file.read_gmt(Kwat.path.select(joinpath(\"..\", \"input\", \"msigdb\", \"\"))))\n",
    "\n",
    "length(se_ge_)"
   ]
  },
  {
   "cell_type": "code",
   "execution_count": 4,
   "id": "456b5b49",
   "metadata": {},
   "outputs": [
    {
     "name": "stdout",
     "output_type": "stream",
     "text": [
      "33584\n"
     ]
    }
   ],
   "source": [
    "merge!(se_ge_, Kwat.file.read_gmt(joinpath(\"..\", \"input\", \"ipa.gmt\")))\n",
    "\n",
    "length(se_ge_)"
   ]
  },
  {
   "cell_type": "code",
   "execution_count": 5,
   "id": "688d5a9b",
   "metadata": {},
   "outputs": [
    {
     "name": "stdout",
     "output_type": "stream",
     "text": [
      "33594\n"
     ]
    }
   ],
   "source": [
    "merge!(se_ge_, Kwat.file.read_gmt(Kwat.path.select(joinpath(\"..\", \"input\", \"table\", \"\"); ke_=[r\".tsv$\"])))\n",
    "\n",
    "length(se_ge_)"
   ]
  },
  {
   "cell_type": "code",
   "execution_count": 7,
   "id": "188745ad",
   "metadata": {},
   "outputs": [
    {
     "name": "stdout",
     "output_type": "stream",
     "text": [
      "/Users/kwat/craft/workflow/get_gene_set/output/set_to_genes.json\n"
     ]
    },
    {
     "data": {
      "text/plain": [
       "61347508"
      ]
     },
     "execution_count": 7,
     "metadata": {},
     "output_type": "execute_result"
    }
   ],
   "source": [
    "Kwat.json.write(joinpath(PAO, \"set_to_genes.json\"), se_ge_)"
   ]
  }
 ],
 "metadata": {
  "@webio": {
   "lastCommId": null,
   "lastKernelId": null
  },
  "kernelspec": {
   "display_name": "Julia 1.6.3",
   "language": "julia",
   "name": "julia-1.6"
  },
  "language_info": {
   "file_extension": ".jl",
   "mimetype": "application/julia",
   "name": "julia",
   "version": "1.6.3"
  }
 },
 "nbformat": 4,
 "nbformat_minor": 5
}
