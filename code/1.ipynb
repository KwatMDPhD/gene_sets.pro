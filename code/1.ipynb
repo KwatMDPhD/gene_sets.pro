{
 "cells": [
  {
   "cell_type": "code",
   "execution_count": null,
   "id": "ddc95df9",
   "metadata": {},
   "outputs": [],
   "source": [
    "include(\"_.jl\")"
   ]
  },
  {
   "cell_type": "code",
   "execution_count": null,
   "id": "88cb8cdc",
   "metadata": {},
   "outputs": [],
   "source": [
    "for (ro, di_, fi_) in walkdir(PAI)\n",
    "\n",
    "    for fi in fi_\n",
    "\n",
    "        pa = joinpath(ro, fi)\n",
    "\n",
    "        na, ex = splitext(fi)\n",
    "\n",
    "        js = joinpath(PAO, string(na, \".json\"))\n",
    "\n",
    "        if ex in (\".gmt\", \".tsv\")\n",
    "\n",
    "            DictExtension.write(js, GMTAccess.read(pa))\n",
    "\n",
    "        end\n",
    "\n",
    "    end\n",
    "\n",
    "end"
   ]
  }
 ],
 "metadata": {
  "@webio": {
   "lastCommId": null,
   "lastKernelId": null
  },
  "kernelspec": {
   "display_name": "Julia 1.6.3",
   "language": "julia",
   "name": "julia-1.6"
  },
  "language_info": {
   "file_extension": ".jl",
   "mimetype": "application/julia",
   "name": "julia",
   "version": "1.6.3"
  }
 },
 "nbformat": 4,
 "nbformat_minor": 5
}
