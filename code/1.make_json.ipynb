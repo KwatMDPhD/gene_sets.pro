{
 "cells": [
  {
   "cell_type": "code",
   "execution_count": null,
   "id": "0e11c30a",
   "metadata": {
    "execution": {
     "iopub.execute_input": "2022-02-19T14:34:04.254000Z",
     "iopub.status.busy": "2022-02-19T14:34:03.904000Z",
     "iopub.status.idle": "2022-02-19T14:34:20.189000Z",
     "shell.execute_reply": "2022-02-19T14:34:20.120000Z"
    }
   },
   "outputs": [],
   "source": [
    "include(\"_.jl\")"
   ]
  },
  {
   "cell_type": "code",
   "execution_count": null,
   "id": "d3b92dcc",
   "metadata": {
    "execution": {
     "iopub.execute_input": "2022-02-19T14:34:20.545000Z",
     "iopub.status.busy": "2022-02-19T14:34:20.191000Z",
     "iopub.status.idle": "2022-02-19T14:34:20.636000Z",
     "shell.execute_reply": "2022-02-19T14:34:20.636000Z"
    }
   },
   "outputs": [],
   "source": [
    "using XMLDict"
   ]
  },
  {
   "cell_type": "code",
   "execution_count": null,
   "id": "eec15868",
   "metadata": {
    "execution": {
     "iopub.execute_input": "2022-02-19T14:34:20.639000Z",
     "iopub.status.busy": "2022-02-19T14:34:20.639000Z",
     "iopub.status.idle": "2022-02-19T14:34:21.311000Z",
     "shell.execute_reply": "2022-02-19T14:34:21.311000Z"
    }
   },
   "outputs": [],
   "source": [
    "xm = \"msigdb_v7.5.1.xml\""
   ]
  },
  {
   "cell_type": "code",
   "execution_count": null,
   "id": "d2157aa7",
   "metadata": {
    "execution": {
     "iopub.execute_input": "2022-02-19T14:34:21.314000Z",
     "iopub.status.busy": "2022-02-19T14:34:21.314000Z",
     "iopub.status.idle": "2022-02-19T14:34:31.050000Z",
     "shell.execute_reply": "2022-02-19T14:34:31.050000Z"
    }
   },
   "outputs": [],
   "source": [
    "ca_se_di = Dict()\n",
    "\n",
    "en = \"GENESET\"\n",
    "\n",
    "for (id, li) in enumerate(readlines(joinpath(PAI, xm)))\n",
    "\n",
    "    if !startswith(li, \"<$en\")\n",
    "\n",
    "        continue\n",
    "\n",
    "    end\n",
    "\n",
    "    di = xml_dict(li)[en]\n",
    "\n",
    "    ca = di[:CATEGORY_CODE]\n",
    "\n",
    "    if ca == \"ARCHIVED\"\n",
    "\n",
    "        continue\n",
    "\n",
    "    end\n",
    "\n",
    "    if !haskey(ca_se_di, ca)\n",
    "\n",
    "        ca_se_di[ca] = Dict()\n",
    "\n",
    "    end\n",
    "\n",
    "    se_di = Dict(\n",
    "        \"Organism\" => di[:ORGANISM],\n",
    "        \"Description\" => di[:DESCRIPTION_BRIEF],\n",
    "        \"URL\" => di[:EXTERNAL_DETAILS_URL],\n",
    "        \"ENSGs\" => di[:MEMBERS],\n",
    "        \"Symbols\" => di[:MEMBERS_SYMBOLIZED],\n",
    "    )\n",
    "\n",
    "    ca_se_di[ca][di[:STANDARD_NAME]] = se_di\n",
    "\n",
    "end\n",
    "\n",
    "OnePiece.dict.write(joinpath(PAO, replace(xm, \".xml\" => \".json\")), ca_se_di)"
   ]
  },
  {
   "cell_type": "code",
   "execution_count": null,
   "id": "69c38c6a",
   "metadata": {
    "execution": {
     "iopub.execute_input": "2022-02-19T14:34:31.052000Z",
     "iopub.status.busy": "2022-02-19T14:34:31.052000Z",
     "iopub.status.idle": "2022-02-19T14:34:32.654000Z",
     "shell.execute_reply": "2022-02-19T14:34:32.654000Z"
    }
   },
   "outputs": [],
   "source": [
    "co = joinpath(PAO, \"collection\")\n",
    "\n",
    "mkpath(co)\n",
    "\n",
    "for (ca, se_di) in ca_se_di\n",
    "\n",
    "    se_ge_ = Dict(se => di[\"Symbols\"] for (se, di) in se_di)\n",
    "\n",
    "    pr = lowercase(ca)\n",
    "\n",
    "    println(\"$pr has $(length(se_ge_)) sets.\")\n",
    "\n",
    "    OnePiece.dict.write(joinpath(co, \"$pr.json\"), se_ge_)\n",
    "\n",
    "end"
   ]
  },
  {
   "cell_type": "code",
   "execution_count": null,
   "id": "c5f22099",
   "metadata": {
    "execution": {
     "iopub.execute_input": "2022-02-19T14:34:32.657000Z",
     "iopub.status.busy": "2022-02-19T14:34:32.657000Z",
     "iopub.status.idle": "2022-02-19T14:34:33.119000Z",
     "shell.execute_reply": "2022-02-19T14:34:33.119000Z"
    }
   },
   "outputs": [],
   "source": [
    "for (ro, di_, fi_) in walkdir(PAI)\n",
    "\n",
    "    for fi in fi_\n",
    "\n",
    "        pr, ex = splitext(fi)\n",
    "\n",
    "        if ex in [\".gmt\", \".tsv\"]\n",
    "\n",
    "            se_ge_ = OnePiece.gmt.read(joinpath(ro, fi))\n",
    "\n",
    "            println(\"$pr has $(length(se_ge_)) sets.\")\n",
    "\n",
    "            OnePiece.dict.write(joinpath(PAO, \"$pr.json\"), se_ge_)\n",
    "\n",
    "        end\n",
    "\n",
    "    end\n",
    "\n",
    "end"
   ]
  }
 ],
 "metadata": {
  "@webio": {
   "lastCommId": null,
   "lastKernelId": null
  },
  "kernelspec": {
   "display_name": "Julia 1.7.2",
   "language": "julia",
   "name": "julia-1.7"
  },
  "language_info": {
   "file_extension": ".jl",
   "mimetype": "application/julia",
   "name": "julia",
   "version": "1.7.2"
  }
 },
 "nbformat": 4,
 "nbformat_minor": 5
}
