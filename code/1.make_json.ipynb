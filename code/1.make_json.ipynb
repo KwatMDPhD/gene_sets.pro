{
 "cells": [
  {
   "cell_type": "code",
   "execution_count": null,
   "id": "ddc95df9",
   "metadata": {
    "execution": {
     "iopub.execute_input": "2021-11-06T05:18:12.250045Z",
     "iopub.status.busy": "2021-11-06T05:18:11.708498Z",
     "iopub.status.idle": "2021-11-06T05:18:13.653624Z",
     "shell.execute_reply": "2021-11-06T05:18:13.653002Z"
    }
   },
   "outputs": [],
   "source": [
    "include(\"_.jl\")"
   ]
  },
  {
   "cell_type": "code",
   "execution_count": null,
   "id": "88cb8cdc",
   "metadata": {
    "execution": {
     "iopub.execute_input": "2021-11-06T05:18:13.754784Z",
     "iopub.status.busy": "2021-11-06T05:18:13.654877Z",
     "iopub.status.idle": "2021-11-06T05:18:20.364827Z",
     "shell.execute_reply": "2021-11-06T05:18:20.364382Z"
    },
    "scrolled": false
   },
   "outputs": [],
   "source": [
    "for (ro, di_, fi_) in walkdir(PAI)\n",
    "\n",
    "    for fi in fi_\n",
    "\n",
    "        pa = joinpath(ro, fi)\n",
    "\n",
    "        ti, ex = splitext(fi)\n",
    "\n",
    "        if ex in [\".gmt\", \".tsv\"]\n",
    "\n",
    "            DictExtension.write(joinpath(PAO, string(ti, \".json\")), GMTAccess.read(pa))\n",
    "\n",
    "        end\n",
    "\n",
    "    end\n",
    "\n",
    "end"
   ]
  }
 ],
 "metadata": {
  "@webio": {
   "lastCommId": null,
   "lastKernelId": null
  },
  "kernelspec": {
   "display_name": "Julia 1.6.4",
   "language": "julia",
   "name": "julia-1.6"
  },
  "language_info": {
   "file_extension": ".jl",
   "mimetype": "application/julia",
   "name": "julia",
   "version": "1.6.4"
  }
 },
 "nbformat": 4,
 "nbformat_minor": 5
}
