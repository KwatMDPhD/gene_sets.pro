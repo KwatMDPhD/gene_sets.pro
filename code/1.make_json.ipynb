{
 "cells": [
  {
   "cell_type": "code",
   "execution_count": null,
   "id": "0e11c30a",
   "metadata": {},
   "outputs": [],
   "source": [
    "include(\"_.jl\")"
   ]
  },
  {
   "cell_type": "code",
   "execution_count": null,
   "id": "d3b92dcc",
   "metadata": {},
   "outputs": [],
   "source": [
    "using XMLDict"
   ]
  },
  {
   "cell_type": "code",
   "execution_count": null,
   "id": "d2157aa7",
   "metadata": {},
   "outputs": [],
   "source": [
    "ca_se_di = Dict()\n",
    "\n",
    "en = \"GENESET\"\n",
    "\n",
    "for li in readlines(joinpath(PAI, \"msigdb_v7.5.1.xml\"))\n",
    "\n",
    "    if !startswith(li, \"<$en\")\n",
    "\n",
    "        continue\n",
    "\n",
    "    end\n",
    "\n",
    "    di = xml_dict(li)[en]\n",
    "\n",
    "    ca = di[:CATEGORY_CODE]\n",
    "\n",
    "    if ca == \"ARCHIVED\"\n",
    "\n",
    "        continue\n",
    "\n",
    "    end\n",
    "\n",
    "    if !haskey(ca_se_di, ca)\n",
    "\n",
    "        ca_se_di[ca] = Dict()\n",
    "\n",
    "    end\n",
    "\n",
    "    ca_se_di[ca][di[:STANDARD_NAME]] = Dict(\n",
    "        \"Organism\" => di[:ORGANISM],\n",
    "        \"Description\" => di[:DESCRIPTION_BRIEF],\n",
    "        \"URL\" => di[:EXTERNAL_DETAILS_URL],\n",
    "        \"ENSGs\" => split(di[:MEMBERS], \",\"),\n",
    "        \"Symbols\" => split(di[:MEMBERS_SYMBOLIZED], \",\"),\n",
    "    )\n",
    "\n",
    "end"
   ]
  },
  {
   "cell_type": "code",
   "execution_count": null,
   "id": "71878f10",
   "metadata": {},
   "outputs": [],
   "source": [
    "co = joinpath(PAO, \"collection\")\n",
    "\n",
    "mkpath(co)"
   ]
  },
  {
   "cell_type": "code",
   "execution_count": null,
   "id": "69c38c6a",
   "metadata": {},
   "outputs": [],
   "source": [
    "for (ca, se_di) in ca_se_di\n",
    "\n",
    "    println(\"$ca has $(length(se_di)) sets.\")\n",
    "\n",
    "    js = \"$(lowercase(ca)).json\"\n",
    "\n",
    "    OnePiece.dict.write(joinpath(PAO, js), se_di)\n",
    "\n",
    "    OnePiece.dict.write(joinpath(co, js), Dict(se => di[\"Symbols\"] for (se, di) in se_di))\n",
    "\n",
    "end"
   ]
  },
  {
   "cell_type": "code",
   "execution_count": null,
   "id": "c5f22099",
   "metadata": {},
   "outputs": [],
   "source": [
    "for (ro, di_, fi_) in walkdir(PAI)\n",
    "\n",
    "    for fi in fi_\n",
    "\n",
    "        pr, ex = splitext(fi)\n",
    "\n",
    "        if ex in (\".gmt\", \".tsv\")\n",
    "\n",
    "            se_ge_ = OnePiece.gmt.read(joinpath(ro, fi))\n",
    "\n",
    "            println(\"$pr has $(length(se_ge_)) sets.\")\n",
    "\n",
    "            OnePiece.dict.write(joinpath(co, \"$pr.json\"), se_ge_)\n",
    "\n",
    "        end\n",
    "\n",
    "    end\n",
    "\n",
    "end"
   ]
  }
 ],
 "metadata": {
  "@webio": {
   "lastCommId": null,
   "lastKernelId": null
  },
  "kernelspec": {
   "display_name": "Julia 1.7.2",
   "language": "julia",
   "name": "julia-1.7"
  },
  "language_info": {
   "file_extension": ".jl",
   "mimetype": "application/julia",
   "name": "julia",
   "version": "1.7.2"
  }
 },
 "nbformat": 4,
 "nbformat_minor": 5
}
