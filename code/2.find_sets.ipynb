{
 "cells": [
  {
   "cell_type": "code",
   "execution_count": null,
   "id": "12e5ef1c",
   "metadata": {},
   "outputs": [],
   "source": [
    "include(\"_.jl\")"
   ]
  },
  {
   "cell_type": "code",
   "execution_count": null,
   "id": "a2fd6d89",
   "metadata": {},
   "outputs": [],
   "source": [
    "ca_ti = Dict(\n",
    "    \"H\" => \"Hallmark Gene Sets\",\n",
    "    #\"C1\" => \"Positional Gene Sets\",\n",
    "    \"C2\" => \"Curated Gene Sets\",\n",
    "    \"C3\" => \"Regulatory Target Gene Sets\",\n",
    "    #\"C4\" => \"Computational Gene Sets\",\n",
    "    \"C5\" => \"Ontology Gene Sets\",\n",
    "    \"C6\" => \"Oncogenic Signature Gene Sets\",\n",
    "    \"C7\" => \"Immunologic Signature Gene Sets\",\n",
    "    \"C8\" => \"Cell Type Signature Gene Sets\",\n",
    ")"
   ]
  },
  {
   "cell_type": "code",
   "execution_count": null,
   "id": "8459bf07",
   "metadata": {},
   "outputs": [],
   "source": [
    "ca_se_di = Dict(ca => OnePiece.dict.read(joinpath(PAO, \"$ca.json\")) for ca in keys(ca_ti))"
   ]
  },
  {
   "cell_type": "code",
   "execution_count": null,
   "id": "84ec0082",
   "metadata": {},
   "outputs": [],
   "source": [
    "ge_ = OnePiece.table.read(\"../../human_genes.pro/output/human_lymphocyte_gene_by_information.tsv\")[\n",
    "    !,\n",
    "    1,\n",
    "]"
   ]
  },
  {
   "cell_type": "code",
   "execution_count": null,
   "id": "a05ec344",
   "metadata": {},
   "outputs": [],
   "source": [
    "ge_ca_se_ = Dict()\n",
    "\n",
    "for ge in ge_\n",
    "\n",
    "    ca_se_ = Dict()\n",
    "\n",
    "    for (ca, se_di) in ca_se_di\n",
    "\n",
    "        se_ = []\n",
    "\n",
    "        for (se, di) in se_di\n",
    "\n",
    "            sy_ = di[\"Symbols\"]\n",
    "\n",
    "            if di[\"Organism\"] != \"Homo sapiens\" || 100 < length(sy_)\n",
    "\n",
    "                continue\n",
    "\n",
    "            end\n",
    "\n",
    "            if ge in sy_\n",
    "\n",
    "                push!(se_, se)\n",
    "\n",
    "            end\n",
    "\n",
    "        end\n",
    "\n",
    "        ca_se_[ca] = se_\n",
    "\n",
    "    end\n",
    "\n",
    "    ge_ca_se_[ge] = ca_se_\n",
    "\n",
    "end"
   ]
  },
  {
   "cell_type": "code",
   "execution_count": null,
   "id": "c11407ae",
   "metadata": {},
   "outputs": [],
   "source": [
    "open(joinpath(PAO, \"gene_sets.md\"), \"w\") do io\n",
    "\n",
    "    for (ge, ca_se_) in ge_ca_se_\n",
    "\n",
    "        write(io, \"## $ge\\n\\n\")\n",
    "\n",
    "        for (ca, se_) in ca_se_\n",
    "\n",
    "            if ca in [\"C1\", \"C4\"]\n",
    "\n",
    "                continue\n",
    "\n",
    "            end\n",
    "\n",
    "            if isempty(se_)\n",
    "\n",
    "                continue\n",
    "\n",
    "            end\n",
    "\n",
    "            write(io, \"#### $(ca_ti[ca])\\n\\n\")\n",
    "\n",
    "            for (id, se) in enumerate(sort(se_))\n",
    "\n",
    "                write(io, \" $id. [$se]($(ca_se_di[ca][se][\"URL\"]))\\n\\n\")\n",
    "\n",
    "            end\n",
    "\n",
    "        end\n",
    "\n",
    "    end\n",
    "\n",
    "end"
   ]
  }
 ],
 "metadata": {
  "@webio": {
   "lastCommId": null,
   "lastKernelId": null
  },
  "kernelspec": {
   "display_name": "Julia 1.7.2",
   "language": "julia",
   "name": "julia-1.7"
  },
  "language_info": {
   "file_extension": ".jl",
   "mimetype": "application/julia",
   "name": "julia",
   "version": "1.7.3"
  }
 },
 "nbformat": 4,
 "nbformat_minor": 5
}
