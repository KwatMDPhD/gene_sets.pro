{
 "cells": [
  {
   "cell_type": "code",
   "execution_count": 1,
   "id": "12e5ef1c",
   "metadata": {
    "execution": {
     "iopub.execute_input": "2022-02-19T14:34:41.347000Z",
     "iopub.status.busy": "2022-02-19T14:34:40.977000Z",
     "iopub.status.idle": "2022-02-19T14:34:47.637000Z",
     "shell.execute_reply": "2022-02-19T14:34:47.586000Z"
    }
   },
   "outputs": [],
   "source": [
    "include(\"_.jl\")"
   ]
  },
  {
   "cell_type": "code",
   "execution_count": 2,
   "id": "7aa85220",
   "metadata": {
    "execution": {
     "iopub.execute_input": "2022-02-19T14:34:47.968000Z",
     "iopub.status.busy": "2022-02-19T14:34:47.639000Z",
     "iopub.status.idle": "2022-02-19T14:34:56.788000Z",
     "shell.execute_reply": "2022-02-19T14:34:56.787000Z"
    }
   },
   "outputs": [
    {
     "data": {
      "text/plain": [
       "Dict{String, Any} with 9 entries:\n",
       "  \"C1\" => Dict{String, Any}(\"chr9p11\"=>Dict{String, Any}(\"Symbols\"=>\"RBPJP6,ENS…\n",
       "  \"C2\" => Dict{String, Any}(\"BIOCARTA_AMAN_PATHWAY\"=>Dict{String, Any}(\"Symbols…\n",
       "  \"C3\" => Dict{String, Any}(\"MIR488_5P\"=>Dict{String, Any}(\"Symbols\"=>\"RETREG1,…\n",
       "  \"C8\" => Dict{String, Any}(\"DESCARTES_FETAL_PANCREAS_VASCULAR_ENDOTHELIAL_CELL…\n",
       "  \"C6\" => Dict{String, Any}(\"CRX_NRL_DN.V1_DN\"=>Dict{String, Any}(\"Symbols\"=>\"E…\n",
       "  \"C4\" => Dict{String, Any}(\"GNF2_ATM\"=>Dict{String, Any}(\"Symbols\"=>\"PIK3IP1,P…\n",
       "  \"C5\" => Dict{String, Any}(\"GOMF_INORGANIC_PHOSPHATE_TRANSMEMBRANE_TRANSPORTER…\n",
       "  \"C7\" => Dict{String, Any}(\"GSE17721_LPS_VS_POLYIC_4H_BMDC_UP\"=>Dict{String, A…\n",
       "  \"H\"  => Dict{String, Any}(\"HALLMARK_ANGIOGENESIS\"=>Dict{String, Any}(\"Symbols…"
      ]
     },
     "execution_count": 2,
     "metadata": {},
     "output_type": "execute_result"
    }
   ],
   "source": [
    "ca_se_di = OnePiece.dict.read(joinpath(PAO, \"msigdb_v7.5.1.json\"))"
   ]
  },
  {
   "cell_type": "code",
   "execution_count": 3,
   "id": "84ec0082",
   "metadata": {
    "execution": {
     "iopub.execute_input": "2022-02-19T14:34:56.791000Z",
     "iopub.status.busy": "2022-02-19T14:34:56.791000Z",
     "iopub.status.idle": "2022-02-19T14:35:17.638000Z",
     "shell.execute_reply": "2022-02-19T14:35:17.638000Z"
    }
   },
   "outputs": [
    {
     "data": {
      "text/plain": [
       "26-element Vector{InlineStrings.String15}:\n",
       " \"KLRF1\"\n",
       " \"LGALS9B\"\n",
       " \"LGALS9C\"\n",
       " \"SIGLEC7\"\n",
       " \"SPTSSB\"\n",
       " \"ZMAT4\"\n",
       " \"KIR3DL1\"\n",
       " \"PDGFD\"\n",
       " \"PLAAT2\"\n",
       " \"APOBEC3B\"\n",
       " \"FAM177B\"\n",
       " \"GLYATL1B\"\n",
       " \"MYO7B\"\n",
       " \"COL9A3\"\n",
       " \"FCRL2\"\n",
       " \"PLEKHG7\"\n",
       " \"ZNF860\"\n",
       " \"CD24\"\n",
       " \"EBF1\"\n",
       " \"TRABD2A\"\n",
       " \"FAAH2\"\n",
       " \"FANK1\"\n",
       " \"ZDHHC11B\"\n",
       " \"CFH\"\n",
       " \"DSC1\"\n",
       " \"ZNF683\""
      ]
     },
     "execution_count": 3,
     "metadata": {},
     "output_type": "execute_result"
    }
   ],
   "source": [
    "ge_ = OnePiece.table.read(\"../../human_genes.pro/output/human_lymphocyte_gene_by_information.tsv\")[\n",
    "    !,\n",
    "    1,\n",
    "]"
   ]
  },
  {
   "cell_type": "code",
   "execution_count": 4,
   "id": "a05ec344",
   "metadata": {
    "execution": {
     "iopub.execute_input": "2022-02-19T14:35:17.641000Z",
     "iopub.status.busy": "2022-02-19T14:35:17.641000Z",
     "iopub.status.idle": "2022-02-19T14:35:18.907000Z",
     "shell.execute_reply": "2022-02-19T14:35:18.907000Z"
    }
   },
   "outputs": [],
   "source": [
    "ge_ca_se_ = Dict()\n",
    "\n",
    "for ge in ge_\n",
    "\n",
    "    ca_se_ = Dict()\n",
    "\n",
    "    for (ca, se_di) in ca_se_di\n",
    "\n",
    "        se_ = []\n",
    "\n",
    "        for (se, di) in se_di\n",
    "\n",
    "            sy_ = di[\"Symbols\"]\n",
    "\n",
    "            if di[\"Organism\"] != \"Homo sapiens\" || 200 < length(sy_)\n",
    "\n",
    "                continue\n",
    "\n",
    "            end\n",
    "\n",
    "            if occursin(ge, sy_)\n",
    "\n",
    "                push!(se_, se)\n",
    "\n",
    "            end\n",
    "\n",
    "        end\n",
    "\n",
    "        ca_se_[ca] = se_\n",
    "\n",
    "    end\n",
    "\n",
    "    ge_ca_se_[ge] = ca_se_\n",
    "\n",
    "end"
   ]
  },
  {
   "cell_type": "code",
   "execution_count": 5,
   "id": "e964269a",
   "metadata": {
    "execution": {
     "iopub.execute_input": "2022-02-19T14:35:18.909000Z",
     "iopub.status.busy": "2022-02-19T14:35:18.909000Z",
     "iopub.status.idle": "2022-02-19T14:35:19.415000Z",
     "shell.execute_reply": "2022-02-19T14:35:19.414000Z"
    }
   },
   "outputs": [
    {
     "data": {
      "text/plain": [
       "Dict{String, String} with 9 entries:\n",
       "  \"C1\" => \"Positional Gene Sets\"\n",
       "  \"C2\" => \"Curated Gene Sets\"\n",
       "  \"C3\" => \"Regulatory Target Gene Sets\"\n",
       "  \"C8\" => \"Cell Type Signature Gene Sets\"\n",
       "  \"C6\" => \"Oncogenic Signature Gene Sets\"\n",
       "  \"C4\" => \"Computational Gene Sets\"\n",
       "  \"C5\" => \"Ontology Gene Sets\"\n",
       "  \"C7\" => \"Immunologic Signature Gene Sets\"\n",
       "  \"H\"  => \"Hallmark Gene Sets\""
      ]
     },
     "execution_count": 5,
     "metadata": {},
     "output_type": "execute_result"
    }
   ],
   "source": [
    "ca_ti = Dict(\n",
    "    \"H\" => \"Hallmark Gene Sets\",\n",
    "    \"C1\" => \"Positional Gene Sets\",\n",
    "    \"C2\" => \"Curated Gene Sets\",\n",
    "    \"C3\" => \"Regulatory Target Gene Sets\",\n",
    "    \"C4\" => \"Computational Gene Sets\",\n",
    "    \"C5\" => \"Ontology Gene Sets\",\n",
    "    \"C6\" => \"Oncogenic Signature Gene Sets\",\n",
    "    \"C7\" => \"Immunologic Signature Gene Sets\",\n",
    "    \"C8\" => \"Cell Type Signature Gene Sets\",\n",
    ")"
   ]
  },
  {
   "cell_type": "code",
   "execution_count": 6,
   "id": "c11407ae",
   "metadata": {
    "execution": {
     "iopub.execute_input": "2022-02-19T14:35:19.417000Z",
     "iopub.status.busy": "2022-02-19T14:35:19.417000Z",
     "iopub.status.idle": "2022-02-19T14:35:19.533000Z",
     "shell.execute_reply": "2022-02-19T14:35:19.532000Z"
    }
   },
   "outputs": [],
   "source": [
    "open(joinpath(PAO, \"gene_sets.md\"), \"w\") do io\n",
    "\n",
    "    for (ge, ca_se_) in ge_ca_se_\n",
    "\n",
    "        write(io, \"## $ge\\n\\n\")\n",
    "\n",
    "        for (ca, se_) in ca_se_\n",
    "\n",
    "            if ca in [\"C1\", \"C4\"]\n",
    "\n",
    "                continue\n",
    "\n",
    "            end\n",
    "\n",
    "            if isempty(se_)\n",
    "\n",
    "                continue\n",
    "\n",
    "            end\n",
    "\n",
    "            write(io, \"#### $(ca_ti[ca])\\n\\n\")\n",
    "\n",
    "            for (id, se) in enumerate(sort(se_))\n",
    "\n",
    "                write(io, \" $id. [$se]($(ca_se_di[ca][se][\"URL\"]))\\n\\n\")\n",
    "\n",
    "            end\n",
    "\n",
    "        end\n",
    "\n",
    "    end\n",
    "\n",
    "end"
   ]
  }
 ],
 "metadata": {
  "kernelspec": {
   "display_name": "Julia 1.7.2",
   "language": "julia",
   "name": "julia-1.7"
  },
  "language_info": {
   "file_extension": ".jl",
   "mimetype": "application/julia",
   "name": "julia",
   "version": "1.7.2"
  }
 },
 "nbformat": 4,
 "nbformat_minor": 5
}
