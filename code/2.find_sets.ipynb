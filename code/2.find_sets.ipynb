{
 "cells": [
  {
   "cell_type": "code",
   "execution_count": null,
   "id": "12e5ef1c",
   "metadata": {
    "execution": {
     "iopub.execute_input": "2022-02-19T12:49:27.408000Z",
     "iopub.status.busy": "2022-02-19T12:49:27.047000Z",
     "iopub.status.idle": "2022-02-19T12:49:33.166000Z",
     "shell.execute_reply": "2022-02-19T12:49:33.113000Z"
    }
   },
   "outputs": [],
   "source": [
    "include(\"_.jl\")"
   ]
  },
  {
   "cell_type": "code",
   "execution_count": null,
   "id": "7aa85220",
   "metadata": {
    "execution": {
     "iopub.execute_input": "2022-02-19T12:49:33.500000Z",
     "iopub.status.busy": "2022-02-19T12:49:33.169000Z",
     "iopub.status.idle": "2022-02-19T12:49:42.050000Z",
     "shell.execute_reply": "2022-02-19T12:49:42.050000Z"
    }
   },
   "outputs": [],
   "source": [
    "ca_se_di = OnePiece.dict.read(joinpath(PAO, \"msigdb_v7.5.1.json\"))"
   ]
  },
  {
   "cell_type": "code",
   "execution_count": null,
   "id": "84ec0082",
   "metadata": {
    "execution": {
     "iopub.execute_input": "2022-02-19T12:49:42.054000Z",
     "iopub.status.busy": "2022-02-19T12:49:42.054000Z",
     "iopub.status.idle": "2022-02-19T12:50:00.277000Z",
     "shell.execute_reply": "2022-02-19T12:50:00.277000Z"
    }
   },
   "outputs": [],
   "source": [
    "ge_ = OnePiece.table.read(\"../../human_genes.pro/output/human_lymphocyte_gene_by_information.tsv\")[\n",
    "    !,\n",
    "    1,\n",
    "]"
   ]
  },
  {
   "cell_type": "code",
   "execution_count": null,
   "id": "a05ec344",
   "metadata": {
    "execution": {
     "iopub.execute_input": "2022-02-19T12:50:00.280000Z",
     "iopub.status.busy": "2022-02-19T12:50:00.280000Z",
     "iopub.status.idle": "2022-02-19T12:50:01.486000Z",
     "shell.execute_reply": "2022-02-19T12:50:01.485000Z"
    }
   },
   "outputs": [],
   "source": [
    "ge_ca_se_ = Dict()\n",
    "\n",
    "for ge in ge_\n",
    "\n",
    "    ca_se_ = Dict()\n",
    "\n",
    "    for (ca, se_di) in ca_se_di\n",
    "\n",
    "        se_ = []\n",
    "\n",
    "        for (se, di) in se_di\n",
    "\n",
    "            sy_ = di[\"Symbols\"]\n",
    "\n",
    "            if di[\"Organism\"] != \"Homo sapiens\" || 200 < length(sy_)\n",
    "\n",
    "                continue\n",
    "\n",
    "            end\n",
    "\n",
    "            if occursin(ge, sy_)\n",
    "\n",
    "                push!(se_, se)\n",
    "\n",
    "            end\n",
    "\n",
    "        end\n",
    "\n",
    "        ca_se_[ca] = se_\n",
    "\n",
    "    end\n",
    "\n",
    "    ge_ca_se_[ge] = ca_se_\n",
    "\n",
    "end"
   ]
  },
  {
   "cell_type": "code",
   "execution_count": null,
   "id": "e964269a",
   "metadata": {
    "execution": {
     "iopub.execute_input": "2022-02-19T12:50:01.488000Z",
     "iopub.status.busy": "2022-02-19T12:50:01.488000Z",
     "iopub.status.idle": "2022-02-19T12:50:01.966000Z",
     "shell.execute_reply": "2022-02-19T12:50:01.966000Z"
    }
   },
   "outputs": [],
   "source": [
    "ca_ti = Dict(\n",
    "    \"H\" => \"Hallmark Gene Sets\",\n",
    "    \"C1\" => \"Positional Gene Sets\",\n",
    "    \"C2\" => \"Curated Gene Sets\",\n",
    "    \"C3\" => \"Regulatory Target Gene Sets\",\n",
    "    \"C4\" => \"Computational Gene Sets\",\n",
    "    \"C5\" => \"Ontology Gene Sets\",\n",
    "    \"C6\" => \"Oncogenic Signature Gene Sets\",\n",
    "    \"C7\" => \"Immunologic Signature Gene Sets\",\n",
    "    \"C8\" => \"Cell Type Signature Gene Sets\",\n",
    ")"
   ]
  },
  {
   "cell_type": "code",
   "execution_count": null,
   "id": "c11407ae",
   "metadata": {
    "execution": {
     "iopub.execute_input": "2022-02-19T12:50:01.968000Z",
     "iopub.status.busy": "2022-02-19T12:50:01.968000Z",
     "iopub.status.idle": "2022-02-19T12:50:02.074000Z",
     "shell.execute_reply": "2022-02-19T12:50:02.073000Z"
    }
   },
   "outputs": [],
   "source": [
    "open(joinpath(PAO, \"gene_sets.md\"), \"w\") do io\n",
    "\n",
    "    for (ge, ca_se_) in ge_ca_se_\n",
    "\n",
    "        write(io, \"## $ge\\n\\n\")\n",
    "\n",
    "        for (ca, se_) in ca_se_\n",
    "\n",
    "            if ca in [\"C1\", \"C4\"]\n",
    "\n",
    "                continue\n",
    "\n",
    "            end\n",
    "\n",
    "            if isempty(se_)\n",
    "\n",
    "                continue\n",
    "\n",
    "            end\n",
    "\n",
    "            write(io, \"#### $(ca_ti[ca])\\n\\n\")\n",
    "\n",
    "            for (id, se) in enumerate(sort(se_))\n",
    "\n",
    "                write(io, \" $id. [$se]($(ca_se_di[ca][se][\"URL\"]))\\n\\n\")\n",
    "\n",
    "            end\n",
    "\n",
    "        end\n",
    "\n",
    "    end\n",
    "\n",
    "end"
   ]
  }
 ],
 "metadata": {
  "kernelspec": {
   "display_name": "Julia 1.7.2",
   "language": "julia",
   "name": "julia-1.7"
  },
  "language_info": {
   "file_extension": ".jl",
   "mimetype": "application/julia",
   "name": "julia",
   "version": "1.7.2"
  }
 },
 "nbformat": 4,
 "nbformat_minor": 5
}
